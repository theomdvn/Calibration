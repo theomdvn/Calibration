{
 "cells": [
  {
   "cell_type": "code",
   "execution_count": 29,
   "metadata": {},
   "outputs": [],
   "source": [
    "import numpy as np\n",
    "\n",
    "def recuit_simulé(f, x0,*args, q=0.2, c0=1e-5, alpha=0.99, max_iter=2000):\n",
    "    # q = variance de la gaussienne\n",
    "    # c0 = critère d'arret\n",
    "    # alpha = taux d'acceptation\n",
    "\n",
    "    for _ in range(max_iter):\n",
    "        x_new = np.random.normal(x0, q)  # Tirez un nouveau x à partir d'une distribution q(x|xk)\n",
    "\n",
    "        delta_f = f(x_new,args) - f(x0,args)\n",
    "\n",
    "        \"\"\"\n",
    "        La probabilité que xk +1 soit accepé est :\n",
    "                    1 si f (xk +1 ) ≤f (xk ) ;\n",
    "                    exp(−f (xk +1 )−f (xk ) / ck) sinon;\n",
    "        \"\"\"\n",
    "        if delta_f <= 0 or np.random.rand() < np.exp(-delta_f / c0):\n",
    "            x0 = x_new\n",
    "\n",
    "        \"\"\"\n",
    "        Parametre de controle initialement grand \n",
    "        (grand taux d’acceptation) puis\n",
    "        décroissance lente : \n",
    "        ck +1 = α * ck \n",
    "        avec α = 0.99\n",
    "        \"\"\"\n",
    "        c0 *= alpha \n",
    "\n",
    "    result = {'x': x0, 'fun': f(x0,args)}\n",
    "    return result"
   ]
  },
  {
   "cell_type": "code",
   "execution_count": 24,
   "metadata": {},
   "outputs": [],
   "source": [
    "def example_function(x):\n",
    "    return x[0]**2+x[1]**2"
   ]
  },
  {
   "cell_type": "code",
   "execution_count": 28,
   "metadata": {},
   "outputs": [
    {
     "name": "stdout",
     "output_type": "stream",
     "text": [
      "x : [0.00080254 0.0016688 ]\n",
      "fun : 3.4289567906542693e-06\n"
     ]
    }
   ],
   "source": [
    "x_optimal = recuit_simulé(example_function, x0=[10,10])\n",
    "\n",
    "print(f'x : {x_optimal[\"x\"]}')\n",
    "print(f'fun : {x_optimal[\"fun\"]}')\n"
   ]
  }
 ],
 "metadata": {
  "kernelspec": {
   "display_name": "Python 3",
   "language": "python",
   "name": "python3"
  },
  "language_info": {
   "codemirror_mode": {
    "name": "ipython",
    "version": 3
   },
   "file_extension": ".py",
   "mimetype": "text/x-python",
   "name": "python",
   "nbconvert_exporter": "python",
   "pygments_lexer": "ipython3",
   "version": "3.9.13"
  }
 },
 "nbformat": 4,
 "nbformat_minor": 2
}
