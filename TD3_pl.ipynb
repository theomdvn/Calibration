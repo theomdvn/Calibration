{
 "cells": [
  {
   "cell_type": "code",
   "execution_count": 1,
   "metadata": {},
   "outputs": [],
   "source": [
    "import pandas as pd\n",
    "import numpy as np\n",
    "from scipy.stats import norm\n",
    "import matplotlib.pyplot as plt"
   ]
  },
  {
   "cell_type": "markdown",
   "metadata": {},
   "source": [
    "TD 3-4"
   ]
  },
  {
   "cell_type": "markdown",
   "metadata": {},
   "source": [
    "Enoncé : \n",
    "\n",
    "------------------------------------------------------------------------------------------------------------------------------------------------------\n",
    "\n",
    "1/ A partir des données fournies (historique d’une action, colonne B), créez l’historique du portefeuille\n",
    "de réplication d’un call européen de maturité le 31/12/2018, de strike 6 et de volatilité constante égale\n",
    "à 20%. Ce portefeuille de réplication a-t-il toujours la valeur de l’option ? Pourquoi ?\n",
    "\n",
    "2/ On suppose qu’on dispose en plus d’une autre option de mêmes caractéristiques (en particulier une\n",
    "volatilité de 20%), sinon le strike qui vaut 6.5. On se propose de répliquer notre option initiale en delta\n",
    "et en gamma. Comment procéder ? Ce nouveau portefeuille de réplication a-t-il toujours la valeur de\n",
    "l’option ?\n",
    "\n",
    "3/ Représenter le prix d’un call européen en fonction du paramètre de volatilité et calibrer la volatilité\n",
    "implicite en utilisant l’algorithme de Newton-Raphson puis l’algorithme de dichotomie.\n",
    "\n",
    "4/ Estimer l’historique de volatilité implicite pour les deux options dont on a l’historique de prix\n",
    "(colonnes C et D).\n",
    "\n",
    "5/ Déterminer rétrospectivement la meilleure couverture dynamique pour la première option (strike\n",
    "de 6, colonne C), puis proposer un portefeuille de réplication pour la dernière date (pour vous couvrir\n",
    "jusqu’au lendemain). Vous déposerez votre réponse ici : https://goo.gl/forms/9bobGfSpaU9aRDWF3\n",
    "(cela contribuera à une partie de la note finale de ce cours, l’absence de réponse fera donc baisser\n",
    "cette note). Lors de la prochaine séance, le P&L obtenu par votre stratégie de réplication vous sera\n",
    "dévoilé.\n",
    "\n",
    "\n",
    "----------------------------------------------------------------------------------------------------------------------------------"
   ]
  },
  {
   "cell_type": "markdown",
   "metadata": {},
   "source": []
  },
  {
   "cell_type": "markdown",
   "metadata": {},
   "source": [
    "On charge les données"
   ]
  },
  {
   "cell_type": "code",
   "execution_count": 5,
   "metadata": {},
   "outputs": [
    {
     "data": {
      "text/html": [
       "<div>\n",
       "<style scoped>\n",
       "    .dataframe tbody tr th:only-of-type {\n",
       "        vertical-align: middle;\n",
       "    }\n",
       "\n",
       "    .dataframe tbody tr th {\n",
       "        vertical-align: top;\n",
       "    }\n",
       "\n",
       "    .dataframe thead th {\n",
       "        text-align: right;\n",
       "    }\n",
       "</style>\n",
       "<table border=\"1\" class=\"dataframe\">\n",
       "  <thead>\n",
       "    <tr style=\"text-align: right;\">\n",
       "      <th></th>\n",
       "      <th>Date</th>\n",
       "      <th>Prix action</th>\n",
       "      <th>Prix option strike 6</th>\n",
       "      <th>Prix option strike 6,5</th>\n",
       "    </tr>\n",
       "  </thead>\n",
       "  <tbody>\n",
       "    <tr>\n",
       "      <th>0</th>\n",
       "      <td>2017-10-02</td>\n",
       "      <td>6.7420</td>\n",
       "      <td>NaN</td>\n",
       "      <td>NaN</td>\n",
       "    </tr>\n",
       "    <tr>\n",
       "      <th>1</th>\n",
       "      <td>2017-10-03</td>\n",
       "      <td>6.9550</td>\n",
       "      <td>NaN</td>\n",
       "      <td>NaN</td>\n",
       "    </tr>\n",
       "    <tr>\n",
       "      <th>2</th>\n",
       "      <td>2017-10-04</td>\n",
       "      <td>6.9100</td>\n",
       "      <td>1.02096</td>\n",
       "      <td>0.59093</td>\n",
       "    </tr>\n",
       "    <tr>\n",
       "      <th>3</th>\n",
       "      <td>2017-10-05</td>\n",
       "      <td>7.0060</td>\n",
       "      <td>1.09932</td>\n",
       "      <td>0.65885</td>\n",
       "    </tr>\n",
       "    <tr>\n",
       "      <th>4</th>\n",
       "      <td>2017-10-06</td>\n",
       "      <td>7.0000</td>\n",
       "      <td>1.09306</td>\n",
       "      <td>0.65440</td>\n",
       "    </tr>\n",
       "    <tr>\n",
       "      <th>...</th>\n",
       "      <td>...</td>\n",
       "      <td>...</td>\n",
       "      <td>...</td>\n",
       "      <td>...</td>\n",
       "    </tr>\n",
       "    <tr>\n",
       "      <th>253</th>\n",
       "      <td>2018-09-28</td>\n",
       "      <td>5.8440</td>\n",
       "      <td>0.28498</td>\n",
       "      <td>0.19737</td>\n",
       "    </tr>\n",
       "    <tr>\n",
       "      <th>254</th>\n",
       "      <td>2018-10-01</td>\n",
       "      <td>5.7240</td>\n",
       "      <td>0.24261</td>\n",
       "      <td>0.16974</td>\n",
       "    </tr>\n",
       "    <tr>\n",
       "      <th>255</th>\n",
       "      <td>2018-10-02</td>\n",
       "      <td>5.6900</td>\n",
       "      <td>0.24491</td>\n",
       "      <td>0.17452</td>\n",
       "    </tr>\n",
       "    <tr>\n",
       "      <th>256</th>\n",
       "      <td>2018-10-03</td>\n",
       "      <td>5.7260</td>\n",
       "      <td>0.27191</td>\n",
       "      <td>0.19592</td>\n",
       "    </tr>\n",
       "    <tr>\n",
       "      <th>257</th>\n",
       "      <td>2018-10-04</td>\n",
       "      <td>5.7223</td>\n",
       "      <td>0.27191</td>\n",
       "      <td>0.19592</td>\n",
       "    </tr>\n",
       "  </tbody>\n",
       "</table>\n",
       "<p>258 rows × 4 columns</p>\n",
       "</div>"
      ],
      "text/plain": [
       "          Date  Prix action  Prix option strike 6  Prix option strike 6,5\n",
       "0   2017-10-02       6.7420                   NaN                     NaN\n",
       "1   2017-10-03       6.9550                   NaN                     NaN\n",
       "2   2017-10-04       6.9100               1.02096                 0.59093\n",
       "3   2017-10-05       7.0060               1.09932                 0.65885\n",
       "4   2017-10-06       7.0000               1.09306                 0.65440\n",
       "..         ...          ...                   ...                     ...\n",
       "253 2018-09-28       5.8440               0.28498                 0.19737\n",
       "254 2018-10-01       5.7240               0.24261                 0.16974\n",
       "255 2018-10-02       5.6900               0.24491                 0.17452\n",
       "256 2018-10-03       5.7260               0.27191                 0.19592\n",
       "257 2018-10-04       5.7223               0.27191                 0.19592\n",
       "\n",
       "[258 rows x 4 columns]"
      ]
     },
     "execution_count": 5,
     "metadata": {},
     "output_type": "execute_result"
    }
   ],
   "source": [
    "data = pd.read_excel(\"Données TD3.xlsx\")\n",
    "data['Date'] = pd.to_datetime(data['Date'])\n",
    "data"
   ]
  },
  {
   "cell_type": "markdown",
   "metadata": {},
   "source": [
    "On plot le prix de l'action"
   ]
  },
  {
   "cell_type": "code",
   "execution_count": 15,
   "metadata": {},
   "outputs": [
    {
     "data": {
      "text/plain": [
       "<Figure size 432x288 with 0 Axes>"
      ]
     },
     "metadata": {},
     "output_type": "display_data"
    },
    {
     "data": {
      "image/png": "[encoded data removed]",
      "text/plain": [
       "<Figure size 1008x504 with 1 Axes>"
      ]
     },
     "metadata": {
      "needs_background": "light"
     },
     "output_type": "display_data"
    }
   ],
   "source": [
    "plt.figure()\n",
    "plt.figure(figsize=(14, 7))\n",
    "plt.plot(data['Date'].values,data['Prix action'].values, label='Prix de l action')\n",
    "plt.title('Prix de l action')\n",
    "plt.xlabel('Date')\n",
    "plt.ylabel('Prix')\n",
    "plt.legend()\n",
    "plt.show()"
   ]
  },
  {
   "cell_type": "markdown",
   "metadata": {},
   "source": [
    "Première question : \n",
    "\n",
    "1/ A partir des données fournies (historique d’une action, colonne B), créez l’historique du portefeuille\n",
    "de réplication d’un call européen de maturité le 31/12/2018, de strike 6 et de volatilité constante égale\n",
    "à 20%. Ce portefeuille de réplication a-t-il toujours la valeur de l’option ? Pourquoi ? "
   ]
  },
  {
   "cell_type": "markdown",
   "metadata": {},
   "source": [
    "Formule de BlackScholes et paramètre du modèle"
   ]
  },
  {
   "cell_type": "code",
   "execution_count": 7,
   "metadata": {},
   "outputs": [],
   "source": [
    "def black_scholes_call_price(S, K, T, r, sigma):\n",
    "    d1 = (np.log(S / K) + (r + 0.5 * sigma ** 2) * T) / (sigma * np.sqrt(T))\n",
    "    d2 = d1 - sigma * np.sqrt(T)\n",
    "    call_price = S * norm.cdf(d1) - K * np.exp(-r * T) * norm.cdf(d2)\n",
    "    return call_price\n",
    "\n",
    "\n",
    "strike = 6  \n",
    "maturity = pd.to_datetime('2018-12-31')  \n",
    "risk_free_rate = 0.0 \n",
    "volatility = 0.20  "
   ]
  },
  {
   "cell_type": "markdown",
   "metadata": {},
   "source": [
    "Calcule du T, temps à maturité"
   ]
  },
  {
   "cell_type": "code",
   "execution_count": 8,
   "metadata": {},
   "outputs": [],
   "source": [
    "data['TempsTM'] = (maturity - data['Date']).dt.total_seconds() / (365 * 24 * 60 * 60)"
   ]
  },
  {
   "cell_type": "markdown",
   "metadata": {},
   "source": [
    "Calcul du prix du call en fonction du TTM et prix de l'action"
   ]
  },
  {
   "cell_type": "code",
   "execution_count": 9,
   "metadata": {},
   "outputs": [
    {
     "name": "stdout",
     "output_type": "stream",
     "text": [
      "          Date   TempsTM  Prix action  Prix Call\n",
      "0   2017-10-02  1.246575       6.7420   1.012460\n",
      "1   2017-10-03  1.243836       6.9550   1.173632\n",
      "2   2017-10-04  1.241096       6.9100   1.138193\n",
      "3   2017-10-05  1.238356       7.0060   1.212687\n",
      "4   2017-10-06  1.235616       7.0000   1.207450\n",
      "..         ...       ...          ...        ...\n",
      "253 2018-09-28  0.257534       5.8440   0.169706\n",
      "254 2018-10-01  0.249315       5.7240   0.120900\n",
      "255 2018-10-02  0.246575       5.6900   0.108709\n",
      "256 2018-10-03  0.243836       5.7260   0.119268\n",
      "257 2018-10-04  0.241096       5.7223   0.116873\n",
      "\n",
      "[258 rows x 4 columns]\n"
     ]
    }
   ],
   "source": [
    "data['Prix Call'] = data.apply(lambda row: black_scholes_call_price(\n",
    "    S=row['Prix action'],\n",
    "    K=strike,\n",
    "    T=row['TempsTM'],\n",
    "    r=risk_free_rate,\n",
    "    sigma=volatility), axis=1)\n",
    "\n",
    "print(data[['Date','TempsTM','Prix action', 'Prix Call']])"
   ]
  },
  {
   "cell_type": "markdown",
   "metadata": {},
   "source": [
    "Calcul du Delta"
   ]
  },
  {
   "cell_type": "code",
   "execution_count": 10,
   "metadata": {},
   "outputs": [
    {
     "name": "stdout",
     "output_type": "stream",
     "text": [
      "          Date   TempsTM  Prix action  Prix Call    Delta1\n",
      "0   2017-10-02  1.246575       6.7420   1.012460  0.736896\n",
      "1   2017-10-03  1.243836       6.9550   1.173632  0.780447\n",
      "2   2017-10-04  1.241096       6.9100   1.138193  0.771918\n",
      "3   2017-10-05  1.238356       7.0060   1.212687  0.790382\n",
      "4   2017-10-06  1.235616       7.0000   1.207450  0.789458\n",
      "..         ...       ...          ...        ...       ...\n",
      "253 2018-09-28  0.257534       5.8440   0.169706  0.417298\n",
      "254 2018-10-01  0.249315       5.7240   0.120900  0.336647\n",
      "255 2018-10-02  0.246575       5.6900   0.108709  0.314013\n",
      "256 2018-10-03  0.243836       5.7260   0.119268  0.335814\n",
      "257 2018-10-04  0.241096       5.7223   0.116873  0.332342\n",
      "\n",
      "[258 rows x 5 columns]\n"
     ]
    }
   ],
   "source": [
    "def delta_call(S, K, T, r, sigma):\n",
    "    d1 = (np.log(S / K) + (r + 0.5 * sigma**2) * T) / (sigma * np.sqrt(T))\n",
    "    delta = norm.cdf(d1)\n",
    "    return delta\n",
    "\n",
    "\n",
    "data['Delta1'] = data.apply(lambda row: delta_call(\n",
    "    S = row['Prix action'],\n",
    "    K = strike,\n",
    "    T= row ['TempsTM'],\n",
    "    r= risk_free_rate,\n",
    "    sigma= volatility), axis =1)\n",
    "\n",
    "\n",
    "print(data[['Date','TempsTM','Prix action','Prix Call','Delta1']])"
   ]
  },
  {
   "cell_type": "markdown",
   "metadata": {},
   "source": [
    "Calcul du porteufeuille de réplication"
   ]
  },
  {
   "cell_type": "code",
   "execution_count": 16,
   "metadata": {},
   "outputs": [
    {
     "name": "stdout",
     "output_type": "stream",
     "text": [
      "          Date  Prix action  Prix Call    Delta1  Cash Position  \\\n",
      "0   2017-10-02       6.7420   1.012460  0.736896      -3.955691   \n",
      "1   2017-10-03       6.9550   1.173632  0.780447      -4.112650   \n",
      "2   2017-10-04       6.9100   1.138193  0.771918      -4.077530   \n",
      "3   2017-10-05       7.0060   1.212687  0.790382      -4.151634   \n",
      "4   2017-10-06       7.0000   1.207450  0.789458      -4.146892   \n",
      "..         ...          ...        ...       ...            ...   \n",
      "253 2018-09-28       5.8440   0.169706  0.417298      -3.066817   \n",
      "254 2018-10-01       5.7240   0.120900  0.336647      -3.016741   \n",
      "255 2018-10-02       5.6900   0.108709  0.314013      -3.005295   \n",
      "256 2018-10-03       5.7260   0.119268  0.335814      -3.016600   \n",
      "257 2018-10-04       5.7223   0.116873  0.332342      -3.015357   \n",
      "\n",
      "     Stock Position  Portfolio Value  \n",
      "0          0.736896         1.012460  \n",
      "1          0.780447         1.315357  \n",
      "2          0.771918         1.256421  \n",
      "3          0.790382         1.385782  \n",
      "4          0.789458         1.379314  \n",
      "..              ...              ...  \n",
      "253        0.417298        -0.628125  \n",
      "254        0.336647        -1.089773  \n",
      "255        0.314013        -1.218561  \n",
      "256        0.335814        -1.093728  \n",
      "257        0.332342        -1.113599  \n",
      "\n",
      "[258 rows x 7 columns]\n"
     ]
    }
   ],
   "source": [
    "cash_position = [black_scholes_call_price(data['Prix action'][0], strike, data['TempsTM'][0], risk_free_rate, volatility) - data['Delta1'][0] * data['Prix action'][0]]\n",
    "stock_position = [data['Delta1'][0]]\n",
    "portfolio_value = [cash_position[0] + stock_position[0] * data['Prix action'][0]]\n",
    "\n",
    "for i in range(1, len(data)):\n",
    "    stock_price_change = data['Prix action'][i] - data['Prix action'][i-1]\n",
    "    cash_position.append(cash_position[-1] - data['Delta1'][i-1] * stock_price_change)\n",
    "    stock_position.append(data['Delta1'][i])\n",
    "    portfolio_value.append(cash_position[-1] + stock_position[-1] * data['Prix action'][i])\n",
    "\n",
    "data['Cash Position'] = cash_position\n",
    "data['Stock Position'] = stock_position\n",
    "data['Portfolio Value'] = portfolio_value\n",
    "\n",
    "print(data[['Date', 'Prix action', 'Prix Call', 'Delta1', 'Cash Position', 'Stock Position', 'Portfolio Value']])\n"
   ]
  },
  {
   "cell_type": "code",
   "execution_count": 17,
   "metadata": {},
   "outputs": [
    {
     "data": {
      "image/png": "[encoded data removed]",
      "text/plain": [
       "<Figure size 1008x504 with 1 Axes>"
      ]
     },
     "metadata": {
      "needs_background": "light"
     },
     "output_type": "display_data"
    }
   ],
   "source": [
    "plt.figure(figsize=(14, 7))\n",
    "plt.plot(data['Date'].values, data['Portfolio Value'].values, label='Portefeuille de Réplication')\n",
    "plt.plot(data['Date'].values, data['Prix Call'].values, label='Valeur Réelle du Call', linestyle='--')\n",
    "plt.title('Portefeuille de Réplication vs Valeur Réelle du Call')\n",
    "plt.xlabel('Date')\n",
    "plt.ylabel('Valeur')\n",
    "plt.legend()\n",
    "plt.grid(True)\n",
    "plt.show()"
   ]
  },
  {
   "cell_type": "markdown",
   "metadata": {},
   "source": [
    "On voit ici que les variations sont quasi les meme mais avec une amplitude différente donc une différence sur la volatilité pour pouvoir couvrir la réplication"
   ]
  },
  {
   "cell_type": "markdown",
   "metadata": {},
   "source": [
    "------------------------------------------------------------------------------------------------------------------------------------------------------------\n",
    "\n",
    "2/ On suppose qu’on dispose en plus d’une autre option de mêmes caractéristiques (en particulier une\n",
    "volatilité de 20%), sinon le strike qui vaut 6.5. On se propose de répliquer notre option initiale en delta\n",
    "et en gamma. Comment procéder ? Ce nouveau portefeuille de réplication a-t-il toujours la valeur de\n",
    "l’option ?\n",
    "\n",
    "------------------------------------------------------------------------------------------------------------------------------------------------------------"
   ]
  },
  {
   "cell_type": "markdown",
   "metadata": {},
   "source": [
    "Calcul du Gamma"
   ]
  },
  {
   "cell_type": "code",
   "execution_count": 19,
   "metadata": {},
   "outputs": [],
   "source": [
    "strike2 = 6.5"
   ]
  },
  {
   "cell_type": "code",
   "execution_count": 20,
   "metadata": {},
   "outputs": [
    {
     "data": {
      "text/html": [
       "<div>\n",
       "<style scoped>\n",
       "    .dataframe tbody tr th:only-of-type {\n",
       "        vertical-align: middle;\n",
       "    }\n",
       "\n",
       "    .dataframe tbody tr th {\n",
       "        vertical-align: top;\n",
       "    }\n",
       "\n",
       "    .dataframe thead th {\n",
       "        text-align: right;\n",
       "    }\n",
       "</style>\n",
       "<table border=\"1\" class=\"dataframe\">\n",
       "  <thead>\n",
       "    <tr style=\"text-align: right;\">\n",
       "      <th></th>\n",
       "      <th>Date</th>\n",
       "      <th>Prix action</th>\n",
       "      <th>Prix option strike 6</th>\n",
       "      <th>Prix option strike 6,5</th>\n",
       "      <th>TempsTM</th>\n",
       "      <th>Prix Call</th>\n",
       "      <th>Delta1</th>\n",
       "      <th>Cash Position</th>\n",
       "      <th>Stock Position</th>\n",
       "      <th>Portfolio Value</th>\n",
       "      <th>Gamma</th>\n",
       "    </tr>\n",
       "  </thead>\n",
       "  <tbody>\n",
       "    <tr>\n",
       "      <th>0</th>\n",
       "      <td>2017-10-02</td>\n",
       "      <td>6.7420</td>\n",
       "      <td>NaN</td>\n",
       "      <td>NaN</td>\n",
       "      <td>1.246575</td>\n",
       "      <td>1.012460</td>\n",
       "      <td>0.736896</td>\n",
       "      <td>-3.955691</td>\n",
       "      <td>0.736896</td>\n",
       "      <td>1.012460</td>\n",
       "      <td>0.255134</td>\n",
       "    </tr>\n",
       "    <tr>\n",
       "      <th>1</th>\n",
       "      <td>2017-10-03</td>\n",
       "      <td>6.9550</td>\n",
       "      <td>NaN</td>\n",
       "      <td>NaN</td>\n",
       "      <td>1.243836</td>\n",
       "      <td>1.173632</td>\n",
       "      <td>0.780447</td>\n",
       "      <td>-4.112650</td>\n",
       "      <td>0.780447</td>\n",
       "      <td>1.315357</td>\n",
       "      <td>0.235955</td>\n",
       "    </tr>\n",
       "    <tr>\n",
       "      <th>2</th>\n",
       "      <td>2017-10-04</td>\n",
       "      <td>6.9100</td>\n",
       "      <td>1.02096</td>\n",
       "      <td>0.59093</td>\n",
       "      <td>1.241096</td>\n",
       "      <td>1.138193</td>\n",
       "      <td>0.771918</td>\n",
       "      <td>-4.077530</td>\n",
       "      <td>0.771918</td>\n",
       "      <td>1.256421</td>\n",
       "      <td>0.240523</td>\n",
       "    </tr>\n",
       "    <tr>\n",
       "      <th>3</th>\n",
       "      <td>2017-10-05</td>\n",
       "      <td>7.0060</td>\n",
       "      <td>1.09932</td>\n",
       "      <td>0.65885</td>\n",
       "      <td>1.238356</td>\n",
       "      <td>1.212687</td>\n",
       "      <td>0.790382</td>\n",
       "      <td>-4.151634</td>\n",
       "      <td>0.790382</td>\n",
       "      <td>1.385782</td>\n",
       "      <td>0.231411</td>\n",
       "    </tr>\n",
       "    <tr>\n",
       "      <th>4</th>\n",
       "      <td>2017-10-06</td>\n",
       "      <td>7.0000</td>\n",
       "      <td>1.09306</td>\n",
       "      <td>0.65440</td>\n",
       "      <td>1.235616</td>\n",
       "      <td>1.207450</td>\n",
       "      <td>0.789458</td>\n",
       "      <td>-4.146892</td>\n",
       "      <td>0.789458</td>\n",
       "      <td>1.379314</td>\n",
       "      <td>0.232239</td>\n",
       "    </tr>\n",
       "    <tr>\n",
       "      <th>...</th>\n",
       "      <td>...</td>\n",
       "      <td>...</td>\n",
       "      <td>...</td>\n",
       "      <td>...</td>\n",
       "      <td>...</td>\n",
       "      <td>...</td>\n",
       "      <td>...</td>\n",
       "      <td>...</td>\n",
       "      <td>...</td>\n",
       "      <td>...</td>\n",
       "      <td>...</td>\n",
       "    </tr>\n",
       "    <tr>\n",
       "      <th>253</th>\n",
       "      <td>2018-09-28</td>\n",
       "      <td>5.8440</td>\n",
       "      <td>0.28498</td>\n",
       "      <td>0.19737</td>\n",
       "      <td>0.257534</td>\n",
       "      <td>0.169706</td>\n",
       "      <td>0.417298</td>\n",
       "      <td>-3.066817</td>\n",
       "      <td>0.417298</td>\n",
       "      <td>-0.628125</td>\n",
       "      <td>0.408992</td>\n",
       "    </tr>\n",
       "    <tr>\n",
       "      <th>254</th>\n",
       "      <td>2018-10-01</td>\n",
       "      <td>5.7240</td>\n",
       "      <td>0.24261</td>\n",
       "      <td>0.16974</td>\n",
       "      <td>0.249315</td>\n",
       "      <td>0.120900</td>\n",
       "      <td>0.336647</td>\n",
       "      <td>-3.016741</td>\n",
       "      <td>0.336647</td>\n",
       "      <td>-1.089773</td>\n",
       "      <td>0.330316</td>\n",
       "    </tr>\n",
       "    <tr>\n",
       "      <th>255</th>\n",
       "      <td>2018-10-02</td>\n",
       "      <td>5.6900</td>\n",
       "      <td>0.24491</td>\n",
       "      <td>0.17452</td>\n",
       "      <td>0.246575</td>\n",
       "      <td>0.108709</td>\n",
       "      <td>0.314013</td>\n",
       "      <td>-3.005295</td>\n",
       "      <td>0.314013</td>\n",
       "      <td>-1.218561</td>\n",
       "      <td>0.307024</td>\n",
       "    </tr>\n",
       "    <tr>\n",
       "      <th>256</th>\n",
       "      <td>2018-10-03</td>\n",
       "      <td>5.7260</td>\n",
       "      <td>0.27191</td>\n",
       "      <td>0.19592</td>\n",
       "      <td>0.243836</td>\n",
       "      <td>0.119268</td>\n",
       "      <td>0.335814</td>\n",
       "      <td>-3.016600</td>\n",
       "      <td>0.335814</td>\n",
       "      <td>-1.093728</td>\n",
       "      <td>0.329310</td>\n",
       "    </tr>\n",
       "    <tr>\n",
       "      <th>257</th>\n",
       "      <td>2018-10-04</td>\n",
       "      <td>5.7223</td>\n",
       "      <td>0.27191</td>\n",
       "      <td>0.19592</td>\n",
       "      <td>0.241096</td>\n",
       "      <td>0.116873</td>\n",
       "      <td>0.332342</td>\n",
       "      <td>-3.015357</td>\n",
       "      <td>0.332342</td>\n",
       "      <td>-1.113599</td>\n",
       "      <td>0.325626</td>\n",
       "    </tr>\n",
       "  </tbody>\n",
       "</table>\n",
       "<p>258 rows × 11 columns</p>\n",
       "</div>"
      ],
      "text/plain": [
       "          Date  Prix action  Prix option strike 6  Prix option strike 6,5  \\\n",
       "0   2017-10-02       6.7420                   NaN                     NaN   \n",
       "1   2017-10-03       6.9550                   NaN                     NaN   \n",
       "2   2017-10-04       6.9100               1.02096                 0.59093   \n",
       "3   2017-10-05       7.0060               1.09932                 0.65885   \n",
       "4   2017-10-06       7.0000               1.09306                 0.65440   \n",
       "..         ...          ...                   ...                     ...   \n",
       "253 2018-09-28       5.8440               0.28498                 0.19737   \n",
       "254 2018-10-01       5.7240               0.24261                 0.16974   \n",
       "255 2018-10-02       5.6900               0.24491                 0.17452   \n",
       "256 2018-10-03       5.7260               0.27191                 0.19592   \n",
       "257 2018-10-04       5.7223               0.27191                 0.19592   \n",
       "\n",
       "      TempsTM  Prix Call    Delta1  Cash Position  Stock Position  \\\n",
       "0    1.246575   1.012460  0.736896      -3.955691        0.736896   \n",
       "1    1.243836   1.173632  0.780447      -4.112650        0.780447   \n",
       "2    1.241096   1.138193  0.771918      -4.077530        0.771918   \n",
       "3    1.238356   1.212687  0.790382      -4.151634        0.790382   \n",
       "4    1.235616   1.207450  0.789458      -4.146892        0.789458   \n",
       "..        ...        ...       ...            ...             ...   \n",
       "253  0.257534   0.169706  0.417298      -3.066817        0.417298   \n",
       "254  0.249315   0.120900  0.336647      -3.016741        0.336647   \n",
       "255  0.246575   0.108709  0.314013      -3.005295        0.314013   \n",
       "256  0.243836   0.119268  0.335814      -3.016600        0.335814   \n",
       "257  0.241096   0.116873  0.332342      -3.015357        0.332342   \n",
       "\n",
       "     Portfolio Value     Gamma  \n",
       "0           1.012460  0.255134  \n",
       "1           1.315357  0.235955  \n",
       "2           1.256421  0.240523  \n",
       "3           1.385782  0.231411  \n",
       "4           1.379314  0.232239  \n",
       "..               ...       ...  \n",
       "253        -0.628125  0.408992  \n",
       "254        -1.089773  0.330316  \n",
       "255        -1.218561  0.307024  \n",
       "256        -1.093728  0.329310  \n",
       "257        -1.113599  0.325626  \n",
       "\n",
       "[258 rows x 11 columns]"
      ]
     },
     "execution_count": 20,
     "metadata": {},
     "output_type": "execute_result"
    }
   ],
   "source": [
    "def gamma_call(S, K, T, r, sigma):\n",
    "    d1 = (np.log(S / K) + (r + 0.5 * sigma**2) * T) / (sigma * np.sqrt(T))\n",
    "    gamma = norm.pdf(d1) / (S * sigma * np.sqrt(T))\n",
    "    return gamma\n",
    "\n",
    "data['Gamma'] = data.apply(lambda row: gamma_call(\n",
    "    S=row['Prix action'],\n",
    "    K=strike2,\n",
    "    T=row['TempsTM'],\n",
    "    r=risk_free_rate,\n",
    "    sigma=volatility), axis=1)\n",
    "\n",
    "data"
   ]
  },
  {
   "cell_type": "markdown",
   "metadata": {},
   "source": []
  },
  {
   "cell_type": "code",
   "execution_count": null,
   "metadata": {},
   "outputs": [],
   "source": []
  },
  {
   "cell_type": "markdown",
   "metadata": {},
   "source": [
    "3/ Représenter le prix d’un call européen en fonction du paramètre de volatilité et calibrer la volatilité\n",
    "implicite en utilisant l’algorithme de Newton-Raphson puis l’algorithme de dichotomie. \n"
   ]
  },
  {
   "cell_type": "code",
   "execution_count": 21,
   "metadata": {},
   "outputs": [],
   "source": [
    "# Paramètres\n",
    "S0 = 100  # Prix spot de l'actif sous-jacent\n",
    "K = 100  # Prix d'exercice (Strike Price)\n",
    "T = 1    # Temps jusqu'à l'échéance (en années)\n",
    "r = 0.05 # Taux d'intérêt sans risque\n",
    "market_price = 10  # Prix du call observé sur le marché"
   ]
  },
  {
   "cell_type": "code",
   "execution_count": 22,
   "metadata": {},
   "outputs": [
    {
     "name": "stdout",
     "output_type": "stream",
     "text": [
      "La volatilité implicite est 0.187972\n"
     ]
    }
   ],
   "source": [
    "def norm_pdf(x):\n",
    "    return (1.0 / np.sqrt(2 * np.pi)) * np.exp(-0.5 * x * x)\n",
    "\n",
    "def black_scholes_vega(S0, K, T, r, sigma):\n",
    "    d1 = (np.log(S0 / K) + (r + 0.5 * sigma ** 2) * T) / (sigma * np.sqrt(T))\n",
    "    return S0 * np.sqrt(T) * norm_pdf(d1)\n",
    "\n",
    "\n",
    "def implied_volatility_newton_raphson(S0, K, T, r, market_price, sigma_initial_guess=0.2, max_iterations=100, epsilon=1e-6):\n",
    "    sigma = sigma_initial_guess\n",
    "    for i in range(max_iterations):\n",
    "        price = black_scholes_call_price(S0, K, T, r, sigma)\n",
    "        vega = black_scholes_vega(S0, K, T, r, sigma)\n",
    "        \n",
    "        # Calcul de la nouvelle estimation de la volatilité\n",
    "        sigma = sigma - (price - market_price) / vega\n",
    "        \n",
    "\n",
    "        if abs(price - market_price) < epsilon:\n",
    "            return sigma\n",
    "    return sigma  \n",
    "\n",
    "\n",
    "\n",
    "# Calcul et affichage de la volatilité implicite\n",
    "vol_implicite = implied_volatility_newton_raphson(S0, K, T, r, market_price)\n",
    "print(f\"La volatilité implicite est {vol_implicite:.6f}\")\n"
   ]
  },
  {
   "cell_type": "code",
   "execution_count": null,
   "metadata": {},
   "outputs": [],
   "source": []
  },
  {
   "cell_type": "markdown",
   "metadata": {},
   "source": [
    "4/ Estimer l’historique de volatilité implicite pour les deux options dont on a l’historique de prix\n",
    "(colonnes C et D). \n"
   ]
  },
  {
   "cell_type": "code",
   "execution_count": 79,
   "metadata": {},
   "outputs": [],
   "source": [
    "strike6 = 6\n",
    "strike65=6.5"
   ]
  },
  {
   "cell_type": "code",
   "execution_count": 82,
   "metadata": {},
   "outputs": [
    {
     "name": "stdout",
     "output_type": "stream",
     "text": [
      "0           NaN\n",
      "1           NaN\n",
      "2      0.145860\n",
      "3      0.144789\n",
      "4      0.144311\n",
      "         ...   \n",
      "252    0.297813\n",
      "253    0.298548\n",
      "254    0.312172\n",
      "255    0.328587\n",
      "256    0.341453\n",
      "Name: VolI6, Length: 257, dtype: float64\n"
     ]
    }
   ],
   "source": [
    "data['VolI6'] = data.apply(lambda row: implied_volatility_newton_raphson(\n",
    "    S0=row['Prix action'],\n",
    "    K=strike6,\n",
    "    T=row['TempsTM'],\n",
    "    r=risk_free_rate,\n",
    "    market_price=row['Prix option strike 6']), axis=1)\n",
    "\n",
    "print(data['VolI6'])"
   ]
  },
  {
   "cell_type": "code",
   "execution_count": 85,
   "metadata": {},
   "outputs": [
    {
     "name": "stdout",
     "output_type": "stream",
     "text": [
      "0           NaN\n",
      "1           NaN\n",
      "2      0.116967\n",
      "3      0.116565\n",
      "4      0.116687\n",
      "         ...   \n",
      "252    0.361408\n",
      "253    0.362253\n",
      "254    0.376124\n",
      "255    0.393196\n",
      "256    0.406829\n",
      "Name: VolI65, Length: 257, dtype: float64\n"
     ]
    }
   ],
   "source": [
    "data['VolI65'] = data.apply(lambda row: implied_volatility_newton_raphson(\n",
    "    S0=row['Prix action'],\n",
    "    K=strike65,\n",
    "    T=row['TempsTM'],\n",
    "    r=risk_free_rate,\n",
    "    market_price=row['Prix option strike 6,5']), axis=1)\n",
    "\n",
    "print(data['VolI65'])"
   ]
  },
  {
   "cell_type": "markdown",
   "metadata": {},
   "source": [
    "5/ Déterminer rétrospectivement la meilleure couverture dynamique pour la première option (strike\n",
    "de 6, colonne C), puis proposer un portefeuille de réplication pour la dernière date (pour vous couvrir\n",
    "jusqu’au lendemain)."
   ]
  },
  {
   "cell_type": "code",
   "execution_count": 86,
   "metadata": {},
   "outputs": [],
   "source": [
    "def derivee_approx(f, x, h=0.0001):\n",
    "        return (f(x + h) - f(x)) / h"
   ]
  }
 ],
 "metadata": {
  "kernelspec": {
   "display_name": "Python 3",
   "language": "python",
   "name": "python3"
  },
  "language_info": {
   "codemirror_mode": {
    "name": "ipython",
    "version": 3
   },
   "file_extension": ".py",
   "mimetype": "text/x-python",
   "name": "python",
   "nbconvert_exporter": "python",
   "pygments_lexer": "ipython3",
   "version": "3.9.13"
  }
 },
 "nbformat": 4,
 "nbformat_minor": 2
}
