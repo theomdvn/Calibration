{
 "cells": [
  {
   "cell_type": "code",
   "execution_count": 29,
   "metadata": {},
   "outputs": [],
   "source": [
    "import numpy as np\n",
    "\n",
    "def recuit_simulé(f, x0,*args, q=0.2, c0=1e-5, alpha=0.99, max_iter=2000):\n",
    "    # q = variance de la gaussienne\n",
    "    # c0 = critère d'arret\n",
    "    # alpha = taux d'acceptation\n",
    "\n",
    "    for _ in range(max_iter):\n",
    "        x_new = np.random.normal(x0, q)  # Tirez un nouveau x à partir d'une distribution q(x|xk)\n",
    "\n",
    "        delta_f = f(x_new,args) - f(x0,args)\n",
    "\n",
    "        \"\"\"\n",
    "        La probabilité que xk +1 soit accepé est :\n",
    "                    1 si f (xk +1 ) ≤f (xk ) ;\n",
    "                    exp(−f (xk +1 )−f (xk ) / ck) sinon;\n",
    "        \"\"\"\n",
    "        if delta_f <= 0 or np.random.rand() < np.exp(-delta_f / c0):\n",
    "            x0 = x_new\n",
    "\n",
    "        \"\"\"\n",
    "        Parametre de controle initialement grand \n",
    "        (grand taux d’acceptation) puis\n",
    "        décroissance lente : \n",
    "        ck +1 = α * ck \n",
    "        avec α = 0.99\n",
    "        \"\"\"\n",
    "        c0 *= alpha \n",
    "\n",
    "    result = {'x': x0, 'fun': f(x0,args)}\n",
    "    return result"
   ]
  },
  {
   "cell_type": "code",
   "execution_count": 36,
   "metadata": {},
   "outputs": [],
   "source": [
    "def example_function(x):\n",
    "    return x[0]**2+x[1]**2+x[2]**3"
   ]
  },
  {
   "cell_type": "code",
   "execution_count": 28,
   "metadata": {},
   "outputs": [
    {
     "name": "stdout",
     "output_type": "stream",
     "text": [
      "x : [0.00080254 0.0016688 ]\n",
      "fun : 3.4289567906542693e-06\n"
     ]
    }
   ],
   "source": [
    "x_optimal = recuit_simulé(example_function, x0=[10,10])\n",
    "\n",
    "print(f'x : {x_optimal[\"x\"]}')\n",
    "print(f'fun : {x_optimal[\"fun\"]}')\n"
   ]
  },
  {
   "cell_type": "code",
   "execution_count": 30,
   "metadata": {},
   "outputs": [],
   "source": [
    "import numpy as np\n",
    "\n",
    "class Particle:\n",
    "    def __init__(self, dim, min_bound, max_bound):\n",
    "        self.position = np.random.uniform(min_bound, max_bound, dim)\n",
    "        self.velocity = np.random.uniform(-1, 1, dim)\n",
    "        self.best_position = np.copy(self.position)\n",
    "        self.best_score = float('inf')\n",
    "\n",
    "def particle_swarm_optimization(f, dim, min_bound, max_bound, swarm_size, max_iter, w, c1, c2):\n",
    "    swarm = [Particle(dim, min_bound, max_bound) for _ in range(swarm_size)]\n",
    "    global_best_position = None\n",
    "    global_best_score = float('inf')\n",
    "\n",
    "    for _ in range(max_iter):\n",
    "        for particle in swarm:\n",
    "            score = f(particle.position)\n",
    "\n",
    "            if score < particle.best_score:\n",
    "                particle.best_score = score\n",
    "                particle.best_position = np.copy(particle.position)\n",
    "\n",
    "            if score < global_best_score:\n",
    "                global_best_score = score\n",
    "                global_best_position = np.copy(particle.position)\n",
    "\n",
    "        for particle in swarm:\n",
    "            r1, r2 = np.random.rand(dim), np.random.rand(dim)\n",
    "            inertia = w * particle.velocity\n",
    "            cognitive = c1 * r1 * (particle.best_position - particle.position)\n",
    "            social = c2 * r2 * (global_best_position - particle.position)\n",
    "            particle.velocity = inertia + cognitive + social\n",
    "            particle.position += particle.velocity\n",
    "\n",
    "            # Assurez-vous que les particules restent dans les limites définies\n",
    "            particle.position = np.clip(particle.position, min_bound, max_bound)\n",
    "\n",
    "    return global_best_position\n",
    "\n"
   ]
  },
  {
   "cell_type": "code",
   "execution_count": 39,
   "metadata": {},
   "outputs": [
    {
     "name": "stdout",
     "output_type": "stream",
     "text": [
      "Solution optimale: [ 0.03524217  0.19471326 -5.        ]\n",
      "Valeur de la fonction objectif à la solution optimale: -124.96084473599554\n"
     ]
    }
   ],
   "source": [
    "optimal_solution = particle_swarm_optimization(\n",
    "    f=example_function,\n",
    "    dim=3,\n",
    "    min_bound=-5.0,\n",
    "    max_bound=5.0,\n",
    "    swarm_size=30,\n",
    "    max_iter=2000,\n",
    "    w=0.5,\n",
    "    c1=10,\n",
    "    c2=10,\n",
    ")\n",
    "\n",
    "print(\"Solution optimale:\", optimal_solution)\n",
    "print(\"Valeur de la fonction objectif à la solution optimale:\", example_function(optimal_solution))\n"
   ]
  }
 ],
 "metadata": {
  "kernelspec": {
   "display_name": "Python 3",
   "language": "python",
   "name": "python3"
  },
  "language_info": {
   "codemirror_mode": {
    "name": "ipython",
    "version": 3
   },
   "file_extension": ".py",
   "mimetype": "text/x-python",
   "name": "python",
   "nbconvert_exporter": "python",
   "pygments_lexer": "ipython3",
   "version": "3.9.13"
  }
 },
 "nbformat": 4,
 "nbformat_minor": 2
}
